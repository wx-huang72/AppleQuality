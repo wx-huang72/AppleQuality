{
 "cells": [
  {
   "cell_type": "code",
   "execution_count": 1,
   "id": "3cb2d08a",
   "metadata": {
    "execution": {
     "iopub.execute_input": "2024-02-25T18:44:07.489638Z",
     "iopub.status.busy": "2024-02-25T18:44:07.488595Z",
     "iopub.status.idle": "2024-02-25T18:44:08.642517Z",
     "shell.execute_reply": "2024-02-25T18:44:08.640875Z"
    },
    "papermill": {
     "duration": 1.170089,
     "end_time": "2024-02-25T18:44:08.646289",
     "exception": false,
     "start_time": "2024-02-25T18:44:07.476200",
     "status": "completed"
    },
    "tags": []
   },
   "outputs": [],
   "source": [
    "import pandas as pd\n",
    "\n",
    "apple_data = pd.read_csv('/kaggle/input/apple-quality/apple_quality.csv')\n",
    "import matplotlib.pyplot as plt\n",
    "# data = pd.read_csv()"
   ]
  },
  {
   "cell_type": "code",
   "execution_count": 2,
   "id": "003c2f19",
   "metadata": {
    "execution": {
     "iopub.execute_input": "2024-02-25T18:44:08.667341Z",
     "iopub.status.busy": "2024-02-25T18:44:08.666452Z",
     "iopub.status.idle": "2024-02-25T18:44:08.692775Z",
     "shell.execute_reply": "2024-02-25T18:44:08.691502Z"
    },
    "papermill": {
     "duration": 0.040478,
     "end_time": "2024-02-25T18:44:08.695844",
     "exception": false,
     "start_time": "2024-02-25T18:44:08.655366",
     "status": "completed"
    },
    "tags": []
   },
   "outputs": [
    {
     "data": {
      "text/html": [
       "<div>\n",
       "<style scoped>\n",
       "    .dataframe tbody tr th:only-of-type {\n",
       "        vertical-align: middle;\n",
       "    }\n",
       "\n",
       "    .dataframe tbody tr th {\n",
       "        vertical-align: top;\n",
       "    }\n",
       "\n",
       "    .dataframe thead th {\n",
       "        text-align: right;\n",
       "    }\n",
       "</style>\n",
       "<table border=\"1\" class=\"dataframe\">\n",
       "  <thead>\n",
       "    <tr style=\"text-align: right;\">\n",
       "      <th></th>\n",
       "      <th>A_id</th>\n",
       "      <th>Size</th>\n",
       "      <th>Weight</th>\n",
       "      <th>Sweetness</th>\n",
       "      <th>Crunchiness</th>\n",
       "      <th>Juiciness</th>\n",
       "      <th>Ripeness</th>\n",
       "      <th>Acidity</th>\n",
       "      <th>Quality</th>\n",
       "    </tr>\n",
       "  </thead>\n",
       "  <tbody>\n",
       "    <tr>\n",
       "      <th>0</th>\n",
       "      <td>0.0</td>\n",
       "      <td>-3.970049</td>\n",
       "      <td>-2.512336</td>\n",
       "      <td>5.346330</td>\n",
       "      <td>-1.012009</td>\n",
       "      <td>1.844900</td>\n",
       "      <td>0.329840</td>\n",
       "      <td>-0.491590483</td>\n",
       "      <td>good</td>\n",
       "    </tr>\n",
       "    <tr>\n",
       "      <th>1</th>\n",
       "      <td>1.0</td>\n",
       "      <td>-1.195217</td>\n",
       "      <td>-2.839257</td>\n",
       "      <td>3.664059</td>\n",
       "      <td>1.588232</td>\n",
       "      <td>0.853286</td>\n",
       "      <td>0.867530</td>\n",
       "      <td>-0.722809367</td>\n",
       "      <td>good</td>\n",
       "    </tr>\n",
       "    <tr>\n",
       "      <th>2</th>\n",
       "      <td>2.0</td>\n",
       "      <td>-0.292024</td>\n",
       "      <td>-1.351282</td>\n",
       "      <td>-1.738429</td>\n",
       "      <td>-0.342616</td>\n",
       "      <td>2.838636</td>\n",
       "      <td>-0.038033</td>\n",
       "      <td>2.621636473</td>\n",
       "      <td>bad</td>\n",
       "    </tr>\n",
       "    <tr>\n",
       "      <th>3</th>\n",
       "      <td>3.0</td>\n",
       "      <td>-0.657196</td>\n",
       "      <td>-2.271627</td>\n",
       "      <td>1.324874</td>\n",
       "      <td>-0.097875</td>\n",
       "      <td>3.637970</td>\n",
       "      <td>-3.413761</td>\n",
       "      <td>0.790723217</td>\n",
       "      <td>good</td>\n",
       "    </tr>\n",
       "    <tr>\n",
       "      <th>4</th>\n",
       "      <td>4.0</td>\n",
       "      <td>1.364217</td>\n",
       "      <td>-1.296612</td>\n",
       "      <td>-0.384658</td>\n",
       "      <td>-0.553006</td>\n",
       "      <td>3.030874</td>\n",
       "      <td>-1.303849</td>\n",
       "      <td>0.501984036</td>\n",
       "      <td>good</td>\n",
       "    </tr>\n",
       "  </tbody>\n",
       "</table>\n",
       "</div>"
      ],
      "text/plain": [
       "   A_id      Size    Weight  Sweetness  Crunchiness  Juiciness  Ripeness  \\\n",
       "0   0.0 -3.970049 -2.512336   5.346330    -1.012009   1.844900  0.329840   \n",
       "1   1.0 -1.195217 -2.839257   3.664059     1.588232   0.853286  0.867530   \n",
       "2   2.0 -0.292024 -1.351282  -1.738429    -0.342616   2.838636 -0.038033   \n",
       "3   3.0 -0.657196 -2.271627   1.324874    -0.097875   3.637970 -3.413761   \n",
       "4   4.0  1.364217 -1.296612  -0.384658    -0.553006   3.030874 -1.303849   \n",
       "\n",
       "        Acidity Quality  \n",
       "0  -0.491590483    good  \n",
       "1  -0.722809367    good  \n",
       "2   2.621636473     bad  \n",
       "3   0.790723217    good  \n",
       "4   0.501984036    good  "
      ]
     },
     "execution_count": 2,
     "metadata": {},
     "output_type": "execute_result"
    }
   ],
   "source": [
    "apple_data.head()"
   ]
  },
  {
   "cell_type": "code",
   "execution_count": 3,
   "id": "b0887d22",
   "metadata": {
    "execution": {
     "iopub.execute_input": "2024-02-25T18:44:08.716870Z",
     "iopub.status.busy": "2024-02-25T18:44:08.715898Z",
     "iopub.status.idle": "2024-02-25T18:44:08.760323Z",
     "shell.execute_reply": "2024-02-25T18:44:08.758681Z"
    },
    "papermill": {
     "duration": 0.05839,
     "end_time": "2024-02-25T18:44:08.763305",
     "exception": false,
     "start_time": "2024-02-25T18:44:08.704915",
     "status": "completed"
    },
    "tags": []
   },
   "outputs": [
    {
     "data": {
      "text/html": [
       "<div>\n",
       "<style scoped>\n",
       "    .dataframe tbody tr th:only-of-type {\n",
       "        vertical-align: middle;\n",
       "    }\n",
       "\n",
       "    .dataframe tbody tr th {\n",
       "        vertical-align: top;\n",
       "    }\n",
       "\n",
       "    .dataframe thead th {\n",
       "        text-align: right;\n",
       "    }\n",
       "</style>\n",
       "<table border=\"1\" class=\"dataframe\">\n",
       "  <thead>\n",
       "    <tr style=\"text-align: right;\">\n",
       "      <th></th>\n",
       "      <th>A_id</th>\n",
       "      <th>Size</th>\n",
       "      <th>Weight</th>\n",
       "      <th>Sweetness</th>\n",
       "      <th>Crunchiness</th>\n",
       "      <th>Juiciness</th>\n",
       "      <th>Ripeness</th>\n",
       "    </tr>\n",
       "  </thead>\n",
       "  <tbody>\n",
       "    <tr>\n",
       "      <th>count</th>\n",
       "      <td>4000.000000</td>\n",
       "      <td>4000.000000</td>\n",
       "      <td>4000.000000</td>\n",
       "      <td>4000.000000</td>\n",
       "      <td>4000.000000</td>\n",
       "      <td>4000.000000</td>\n",
       "      <td>4000.000000</td>\n",
       "    </tr>\n",
       "    <tr>\n",
       "      <th>mean</th>\n",
       "      <td>1999.500000</td>\n",
       "      <td>-0.503015</td>\n",
       "      <td>-0.989547</td>\n",
       "      <td>-0.470479</td>\n",
       "      <td>0.985478</td>\n",
       "      <td>0.512118</td>\n",
       "      <td>0.498277</td>\n",
       "    </tr>\n",
       "    <tr>\n",
       "      <th>std</th>\n",
       "      <td>1154.844867</td>\n",
       "      <td>1.928059</td>\n",
       "      <td>1.602507</td>\n",
       "      <td>1.943441</td>\n",
       "      <td>1.402757</td>\n",
       "      <td>1.930286</td>\n",
       "      <td>1.874427</td>\n",
       "    </tr>\n",
       "    <tr>\n",
       "      <th>min</th>\n",
       "      <td>0.000000</td>\n",
       "      <td>-7.151703</td>\n",
       "      <td>-7.149848</td>\n",
       "      <td>-6.894485</td>\n",
       "      <td>-6.055058</td>\n",
       "      <td>-5.961897</td>\n",
       "      <td>-5.864599</td>\n",
       "    </tr>\n",
       "    <tr>\n",
       "      <th>25%</th>\n",
       "      <td>999.750000</td>\n",
       "      <td>-1.816765</td>\n",
       "      <td>-2.011770</td>\n",
       "      <td>-1.738425</td>\n",
       "      <td>0.062764</td>\n",
       "      <td>-0.801286</td>\n",
       "      <td>-0.771677</td>\n",
       "    </tr>\n",
       "    <tr>\n",
       "      <th>50%</th>\n",
       "      <td>1999.500000</td>\n",
       "      <td>-0.513703</td>\n",
       "      <td>-0.984736</td>\n",
       "      <td>-0.504758</td>\n",
       "      <td>0.998249</td>\n",
       "      <td>0.534219</td>\n",
       "      <td>0.503445</td>\n",
       "    </tr>\n",
       "    <tr>\n",
       "      <th>75%</th>\n",
       "      <td>2999.250000</td>\n",
       "      <td>0.805526</td>\n",
       "      <td>0.030976</td>\n",
       "      <td>0.801922</td>\n",
       "      <td>1.894234</td>\n",
       "      <td>1.835976</td>\n",
       "      <td>1.766212</td>\n",
       "    </tr>\n",
       "    <tr>\n",
       "      <th>max</th>\n",
       "      <td>3999.000000</td>\n",
       "      <td>6.406367</td>\n",
       "      <td>5.790714</td>\n",
       "      <td>6.374916</td>\n",
       "      <td>7.619852</td>\n",
       "      <td>7.364403</td>\n",
       "      <td>7.237837</td>\n",
       "    </tr>\n",
       "  </tbody>\n",
       "</table>\n",
       "</div>"
      ],
      "text/plain": [
       "              A_id         Size       Weight    Sweetness  Crunchiness  \\\n",
       "count  4000.000000  4000.000000  4000.000000  4000.000000  4000.000000   \n",
       "mean   1999.500000    -0.503015    -0.989547    -0.470479     0.985478   \n",
       "std    1154.844867     1.928059     1.602507     1.943441     1.402757   \n",
       "min       0.000000    -7.151703    -7.149848    -6.894485    -6.055058   \n",
       "25%     999.750000    -1.816765    -2.011770    -1.738425     0.062764   \n",
       "50%    1999.500000    -0.513703    -0.984736    -0.504758     0.998249   \n",
       "75%    2999.250000     0.805526     0.030976     0.801922     1.894234   \n",
       "max    3999.000000     6.406367     5.790714     6.374916     7.619852   \n",
       "\n",
       "         Juiciness     Ripeness  \n",
       "count  4000.000000  4000.000000  \n",
       "mean      0.512118     0.498277  \n",
       "std       1.930286     1.874427  \n",
       "min      -5.961897    -5.864599  \n",
       "25%      -0.801286    -0.771677  \n",
       "50%       0.534219     0.503445  \n",
       "75%       1.835976     1.766212  \n",
       "max       7.364403     7.237837  "
      ]
     },
     "execution_count": 3,
     "metadata": {},
     "output_type": "execute_result"
    }
   ],
   "source": [
    "apple_data.describe()"
   ]
  },
  {
   "cell_type": "code",
   "execution_count": 4,
   "id": "ead07c65",
   "metadata": {
    "execution": {
     "iopub.execute_input": "2024-02-25T18:44:08.783593Z",
     "iopub.status.busy": "2024-02-25T18:44:08.783119Z",
     "iopub.status.idle": "2024-02-25T18:44:08.795226Z",
     "shell.execute_reply": "2024-02-25T18:44:08.794250Z"
    },
    "papermill": {
     "duration": 0.025315,
     "end_time": "2024-02-25T18:44:08.797860",
     "exception": false,
     "start_time": "2024-02-25T18:44:08.772545",
     "status": "completed"
    },
    "tags": []
   },
   "outputs": [
    {
     "data": {
      "text/plain": [
       "A_id           1\n",
       "Size           1\n",
       "Weight         1\n",
       "Sweetness      1\n",
       "Crunchiness    1\n",
       "Juiciness      1\n",
       "Ripeness       1\n",
       "Acidity        0\n",
       "Quality        1\n",
       "dtype: int64"
      ]
     },
     "execution_count": 4,
     "metadata": {},
     "output_type": "execute_result"
    }
   ],
   "source": [
    "apple_data.isna().sum()"
   ]
  },
  {
   "cell_type": "code",
   "execution_count": 5,
   "id": "4f8c03e5",
   "metadata": {
    "execution": {
     "iopub.execute_input": "2024-02-25T18:44:08.818549Z",
     "iopub.status.busy": "2024-02-25T18:44:08.818074Z",
     "iopub.status.idle": "2024-02-25T18:44:08.829658Z",
     "shell.execute_reply": "2024-02-25T18:44:08.828349Z"
    },
    "papermill": {
     "duration": 0.025919,
     "end_time": "2024-02-25T18:44:08.832872",
     "exception": false,
     "start_time": "2024-02-25T18:44:08.806953",
     "status": "completed"
    },
    "tags": []
   },
   "outputs": [],
   "source": [
    "apple_data = apple_data.dropna()\n"
   ]
  },
  {
   "cell_type": "code",
   "execution_count": 6,
   "id": "0e790870",
   "metadata": {
    "execution": {
     "iopub.execute_input": "2024-02-25T18:44:08.855153Z",
     "iopub.status.busy": "2024-02-25T18:44:08.854430Z",
     "iopub.status.idle": "2024-02-25T18:44:08.867005Z",
     "shell.execute_reply": "2024-02-25T18:44:08.865773Z"
    },
    "papermill": {
     "duration": 0.02728,
     "end_time": "2024-02-25T18:44:08.870091",
     "exception": false,
     "start_time": "2024-02-25T18:44:08.842811",
     "status": "completed"
    },
    "tags": []
   },
   "outputs": [
    {
     "data": {
      "text/plain": [
       "array(['good', 'bad'], dtype=object)"
      ]
     },
     "execution_count": 6,
     "metadata": {},
     "output_type": "execute_result"
    }
   ],
   "source": [
    "apple_data[\"Quality\"].unique()"
   ]
  },
  {
   "cell_type": "code",
   "execution_count": 7,
   "id": "7d27b22c",
   "metadata": {
    "execution": {
     "iopub.execute_input": "2024-02-25T18:44:08.892556Z",
     "iopub.status.busy": "2024-02-25T18:44:08.891755Z",
     "iopub.status.idle": "2024-02-25T18:44:08.905080Z",
     "shell.execute_reply": "2024-02-25T18:44:08.904214Z"
    },
    "papermill": {
     "duration": 0.027562,
     "end_time": "2024-02-25T18:44:08.907426",
     "exception": false,
     "start_time": "2024-02-25T18:44:08.879864",
     "status": "completed"
    },
    "tags": []
   },
   "outputs": [
    {
     "data": {
      "text/plain": [
       "Quality\n",
       "good    2004\n",
       "bad     1996\n",
       "Name: count, dtype: int64"
      ]
     },
     "execution_count": 7,
     "metadata": {},
     "output_type": "execute_result"
    }
   ],
   "source": [
    "apple_data[\"Quality\"].value_counts()"
   ]
  },
  {
   "cell_type": "code",
   "execution_count": 8,
   "id": "ffee9c3e",
   "metadata": {
    "execution": {
     "iopub.execute_input": "2024-02-25T18:44:08.929618Z",
     "iopub.status.busy": "2024-02-25T18:44:08.928369Z",
     "iopub.status.idle": "2024-02-25T18:44:08.935322Z",
     "shell.execute_reply": "2024-02-25T18:44:08.933766Z"
    },
    "papermill": {
     "duration": 0.021191,
     "end_time": "2024-02-25T18:44:08.938303",
     "exception": false,
     "start_time": "2024-02-25T18:44:08.917112",
     "status": "completed"
    },
    "tags": []
   },
   "outputs": [],
   "source": [
    "colors = {\"good\":\"green\", \"bad\":\"red\"}"
   ]
  },
  {
   "cell_type": "code",
   "execution_count": 9,
   "id": "ca258b19",
   "metadata": {
    "execution": {
     "iopub.execute_input": "2024-02-25T18:44:08.961070Z",
     "iopub.status.busy": "2024-02-25T18:44:08.960008Z",
     "iopub.status.idle": "2024-02-25T18:44:09.337713Z",
     "shell.execute_reply": "2024-02-25T18:44:09.336427Z"
    },
    "papermill": {
     "duration": 0.394145,
     "end_time": "2024-02-25T18:44:09.342389",
     "exception": false,
     "start_time": "2024-02-25T18:44:08.948244",
     "status": "completed"
    },
    "tags": []
   },
   "outputs": [
    {
     "data": {
      "image/png": "[encoded data removed]",
      "text/plain": [
       "<Figure size 640x480 with 1 Axes>"
      ]
     },
     "metadata": {},
     "output_type": "display_data"
    }
   ],
   "source": [
    "plt.scatter(apple_data[\"Juiciness\"],apple_data[\"Ripeness\"], c = apple_data[\"Quality\"].map(colors))\n",
    "plt.show()"
   ]
  },
  {
   "cell_type": "code",
   "execution_count": 10,
   "id": "5639b4a1",
   "metadata": {
    "execution": {
     "iopub.execute_input": "2024-02-25T18:44:09.368378Z",
     "iopub.status.busy": "2024-02-25T18:44:09.367642Z",
     "iopub.status.idle": "2024-02-25T18:44:09.372492Z",
     "shell.execute_reply": "2024-02-25T18:44:09.371659Z"
    },
    "papermill": {
     "duration": 0.020416,
     "end_time": "2024-02-25T18:44:09.374759",
     "exception": false,
     "start_time": "2024-02-25T18:44:09.354343",
     "status": "completed"
    },
    "tags": []
   },
   "outputs": [],
   "source": [
    "# for i in range(1,8):\n",
    "#     for j in range(1,8):\n",
    "#         plt.scatter(apple_data.iloc[:,i],apple_data.iloc[:,j], c = apple_data[\"Quality\"].map(colors))\n",
    "#         plt.show()\n"
   ]
  },
  {
   "cell_type": "code",
   "execution_count": 11,
   "id": "fb94b422",
   "metadata": {
    "execution": {
     "iopub.execute_input": "2024-02-25T18:44:09.401359Z",
     "iopub.status.busy": "2024-02-25T18:44:09.400621Z",
     "iopub.status.idle": "2024-02-25T18:44:09.409434Z",
     "shell.execute_reply": "2024-02-25T18:44:09.408116Z"
    },
    "papermill": {
     "duration": 0.025767,
     "end_time": "2024-02-25T18:44:09.411941",
     "exception": false,
     "start_time": "2024-02-25T18:44:09.386174",
     "status": "completed"
    },
    "tags": []
   },
   "outputs": [
    {
     "name": "stdout",
     "output_type": "stream",
     "text": [
      "-0.000635882\n",
      "7.404736238\n"
     ]
    }
   ],
   "source": [
    "print(min(apple_data[\"Acidity\"]))\n",
    "print(max(apple_data[\"Acidity\"]))"
   ]
  },
  {
   "cell_type": "code",
   "execution_count": 12,
   "id": "5eb710db",
   "metadata": {
    "execution": {
     "iopub.execute_input": "2024-02-25T18:44:09.437797Z",
     "iopub.status.busy": "2024-02-25T18:44:09.436889Z",
     "iopub.status.idle": "2024-02-25T18:44:10.942220Z",
     "shell.execute_reply": "2024-02-25T18:44:10.940854Z"
    },
    "papermill": {
     "duration": 1.521962,
     "end_time": "2024-02-25T18:44:10.945444",
     "exception": false,
     "start_time": "2024-02-25T18:44:09.423482",
     "status": "completed"
    },
    "tags": []
   },
   "outputs": [],
   "source": [
    "from sklearn import preprocessing \n",
    "  \n",
    "# label_encoder object knows  \n",
    "# how to understand word labels. \n",
    "label_encoder = preprocessing.LabelEncoder() \n",
    "  \n",
    "# Encode labels in column 'species'. \n",
    "apple_data['Quality']= label_encoder.fit_transform(apple_data['Quality']) "
   ]
  },
  {
   "cell_type": "code",
   "execution_count": 13,
   "id": "09b09622",
   "metadata": {
    "execution": {
     "iopub.execute_input": "2024-02-25T18:44:10.971531Z",
     "iopub.status.busy": "2024-02-25T18:44:10.971087Z",
     "iopub.status.idle": "2024-02-25T18:44:10.982800Z",
     "shell.execute_reply": "2024-02-25T18:44:10.981371Z"
    },
    "papermill": {
     "duration": 0.028649,
     "end_time": "2024-02-25T18:44:10.986066",
     "exception": false,
     "start_time": "2024-02-25T18:44:10.957417",
     "status": "completed"
    },
    "tags": []
   },
   "outputs": [],
   "source": [
    "import numpy as np\n",
    "labels = np.array(apple_data['Quality'])\n",
    "# Remove the labels from the features\n",
    "# axis 1 refers to the columns\n",
    "features= apple_data.drop(['Quality', \"A_id\"], axis = 1)\n",
    "# Saving feature names for later use\n",
    "feature_list = list(features.columns)\n",
    "# Convert to numpy array\n",
    "features = np.array(features)"
   ]
  },
  {
   "cell_type": "code",
   "execution_count": 14,
   "id": "83a63b67",
   "metadata": {
    "execution": {
     "iopub.execute_input": "2024-02-25T18:44:11.013189Z",
     "iopub.status.busy": "2024-02-25T18:44:11.012411Z",
     "iopub.status.idle": "2024-02-25T18:44:11.132223Z",
     "shell.execute_reply": "2024-02-25T18:44:11.130530Z"
    },
    "papermill": {
     "duration": 0.137894,
     "end_time": "2024-02-25T18:44:11.135484",
     "exception": false,
     "start_time": "2024-02-25T18:44:10.997590",
     "status": "completed"
    },
    "tags": []
   },
   "outputs": [],
   "source": [
    "# Using Skicit-learn to split data into training and testing sets\n",
    "from sklearn.model_selection import train_test_split\n",
    "# Split the data into training and testing sets\n",
    "train_features, test_features, train_labels, test_labels = train_test_split(features, labels, test_size = 0.25, random_state = 123)"
   ]
  },
  {
   "cell_type": "code",
   "execution_count": 15,
   "id": "29f41427",
   "metadata": {
    "execution": {
     "iopub.execute_input": "2024-02-25T18:44:11.161515Z",
     "iopub.status.busy": "2024-02-25T18:44:11.160756Z",
     "iopub.status.idle": "2024-02-25T18:44:11.168179Z",
     "shell.execute_reply": "2024-02-25T18:44:11.166705Z"
    },
    "papermill": {
     "duration": 0.024687,
     "end_time": "2024-02-25T18:44:11.171824",
     "exception": false,
     "start_time": "2024-02-25T18:44:11.147137",
     "status": "completed"
    },
    "tags": []
   },
   "outputs": [
    {
     "name": "stdout",
     "output_type": "stream",
     "text": [
      "Training Features Shape: (3000, 7)\n",
      "Training Labels Shape: (3000,)\n",
      "Testing Features Shape: (1000, 7)\n",
      "Testing Labels Shape: (1000,)\n"
     ]
    }
   ],
   "source": [
    "print('Training Features Shape:', train_features.shape)\n",
    "print('Training Labels Shape:', train_labels.shape)\n",
    "print('Testing Features Shape:', test_features.shape)\n",
    "print('Testing Labels Shape:', test_labels.shape)\n"
   ]
  },
  {
   "cell_type": "code",
   "execution_count": 16,
   "id": "dbc241ee",
   "metadata": {
    "execution": {
     "iopub.execute_input": "2024-02-25T18:44:11.199363Z",
     "iopub.status.busy": "2024-02-25T18:44:11.198873Z",
     "iopub.status.idle": "2024-02-25T18:44:11.204045Z",
     "shell.execute_reply": "2024-02-25T18:44:11.202639Z"
    },
    "papermill": {
     "duration": 0.022089,
     "end_time": "2024-02-25T18:44:11.206907",
     "exception": false,
     "start_time": "2024-02-25T18:44:11.184818",
     "status": "completed"
    },
    "tags": []
   },
   "outputs": [],
   "source": [
    "# test_labels"
   ]
  },
  {
   "cell_type": "code",
   "execution_count": 17,
   "id": "cf1bf407",
   "metadata": {
    "execution": {
     "iopub.execute_input": "2024-02-25T18:44:11.233615Z",
     "iopub.status.busy": "2024-02-25T18:44:11.233078Z",
     "iopub.status.idle": "2024-02-25T18:44:13.315553Z",
     "shell.execute_reply": "2024-02-25T18:44:13.314134Z"
    },
    "papermill": {
     "duration": 2.100364,
     "end_time": "2024-02-25T18:44:13.319331",
     "exception": false,
     "start_time": "2024-02-25T18:44:11.218967",
     "status": "completed"
    },
    "tags": []
   },
   "outputs": [
    {
     "data": {
      "text/html": [
       "<style>#sk-container-id-1 {color: black;background-color: white;}#sk-container-id-1 pre{padding: 0;}#sk-container-id-1 div.sk-toggleable {background-color: white;}#sk-container-id-1 label.sk-toggleable__label {cursor: pointer;display: block;width: 100%;margin-bottom: 0;padding: 0.3em;box-sizing: border-box;text-align: center;}#sk-container-id-1 label.sk-toggleable__label-arrow:before {content: \"▸\";float: left;margin-right: 0.25em;color: #696969;}#sk-container-id-1 label.sk-toggleable__label-arrow:hover:before {color: black;}#sk-container-id-1 div.sk-estimator:hover label.sk-toggleable__label-arrow:before {color: black;}#sk-container-id-1 div.sk-toggleable__content {max-height: 0;max-width: 0;overflow: hidden;text-align: left;background-color: #f0f8ff;}#sk-container-id-1 div.sk-toggleable__content pre {margin: 0.2em;color: black;border-radius: 0.25em;background-color: #f0f8ff;}#sk-container-id-1 input.sk-toggleable__control:checked~div.sk-toggleable__content {max-height: 200px;max-width: 100%;overflow: auto;}#sk-container-id-1 input.sk-toggleable__control:checked~label.sk-toggleable__label-arrow:before {content: \"▾\";}#sk-container-id-1 div.sk-estimator input.sk-toggleable__control:checked~label.sk-toggleable__label {background-color: #d4ebff;}#sk-container-id-1 div.sk-label input.sk-toggleable__control:checked~label.sk-toggleable__label {background-color: #d4ebff;}#sk-container-id-1 input.sk-hidden--visually {border: 0;clip: rect(1px 1px 1px 1px);clip: rect(1px, 1px, 1px, 1px);height: 1px;margin: -1px;overflow: hidden;padding: 0;position: absolute;width: 1px;}#sk-container-id-1 div.sk-estimator {font-family: monospace;background-color: #f0f8ff;border: 1px dotted black;border-radius: 0.25em;box-sizing: border-box;margin-bottom: 0.5em;}#sk-container-id-1 div.sk-estimator:hover {background-color: #d4ebff;}#sk-container-id-1 div.sk-parallel-item::after {content: \"\";width: 100%;border-bottom: 1px solid gray;flex-grow: 1;}#sk-container-id-1 div.sk-label:hover label.sk-toggleable__label {background-color: #d4ebff;}#sk-container-id-1 div.sk-serial::before {content: \"\";position: absolute;border-left: 1px solid gray;box-sizing: border-box;top: 0;bottom: 0;left: 50%;z-index: 0;}#sk-container-id-1 div.sk-serial {display: flex;flex-direction: column;align-items: center;background-color: white;padding-right: 0.2em;padding-left: 0.2em;position: relative;}#sk-container-id-1 div.sk-item {position: relative;z-index: 1;}#sk-container-id-1 div.sk-parallel {display: flex;align-items: stretch;justify-content: center;background-color: white;position: relative;}#sk-container-id-1 div.sk-item::before, #sk-container-id-1 div.sk-parallel-item::before {content: \"\";position: absolute;border-left: 1px solid gray;box-sizing: border-box;top: 0;bottom: 0;left: 50%;z-index: -1;}#sk-container-id-1 div.sk-parallel-item {display: flex;flex-direction: column;z-index: 1;position: relative;background-color: white;}#sk-container-id-1 div.sk-parallel-item:first-child::after {align-self: flex-end;width: 50%;}#sk-container-id-1 div.sk-parallel-item:last-child::after {align-self: flex-start;width: 50%;}#sk-container-id-1 div.sk-parallel-item:only-child::after {width: 0;}#sk-container-id-1 div.sk-dashed-wrapped {border: 1px dashed gray;margin: 0 0.4em 0.5em 0.4em;box-sizing: border-box;padding-bottom: 0.4em;background-color: white;}#sk-container-id-1 div.sk-label label {font-family: monospace;font-weight: bold;display: inline-block;line-height: 1.2em;}#sk-container-id-1 div.sk-label-container {text-align: center;}#sk-container-id-1 div.sk-container {/* jupyter's `normalize.less` sets `[hidden] { display: none; }` but bootstrap.min.css set `[hidden] { display: none !important; }` so we also need the `!important` here to be able to override the default hidden behavior on the sphinx rendered scikit-learn.org. See: https://github.com/scikit-learn/scikit-learn/issues/21755 */display: inline-block !important;position: relative;}#sk-container-id-1 div.sk-text-repr-fallback {display: none;}</style><div id=\"sk-container-id-1\" class=\"sk-top-container\"><div class=\"sk-text-repr-fallback\"><pre>RandomForestRegressor(random_state=123)</pre><b>In a Jupyter environment, please rerun this cell to show the HTML representation or trust the notebook. <br />On GitHub, the HTML representation is unable to render, please try loading this page with nbviewer.org.</b></div><div class=\"sk-container\" hidden><div class=\"sk-item\"><div class=\"sk-estimator sk-toggleable\"><input class=\"sk-toggleable__control sk-hidden--visually\" id=\"sk-estimator-id-1\" type=\"checkbox\" checked><label for=\"sk-estimator-id-1\" class=\"sk-toggleable__label sk-toggleable__label-arrow\">RandomForestRegressor</label><div class=\"sk-toggleable__content\"><pre>RandomForestRegressor(random_state=123)</pre></div></div></div></div></div>"
      ],
      "text/plain": [
       "RandomForestRegressor(random_state=123)"
      ]
     },
     "execution_count": 17,
     "metadata": {},
     "output_type": "execute_result"
    }
   ],
   "source": [
    "from sklearn.ensemble import RandomForestRegressor\n",
    "rf = RandomForestRegressor(n_estimators = 100, random_state = 123)\n",
    "rf.fit(train_features, train_labels)"
   ]
  },
  {
   "cell_type": "code",
   "execution_count": 18,
   "id": "2e6e59c0",
   "metadata": {
    "execution": {
     "iopub.execute_input": "2024-02-25T18:44:13.354231Z",
     "iopub.status.busy": "2024-02-25T18:44:13.353641Z",
     "iopub.status.idle": "2024-02-25T18:44:13.386079Z",
     "shell.execute_reply": "2024-02-25T18:44:13.384850Z"
    },
    "papermill": {
     "duration": 0.052419,
     "end_time": "2024-02-25T18:44:13.389937",
     "exception": false,
     "start_time": "2024-02-25T18:44:13.337518",
     "status": "completed"
    },
    "tags": []
   },
   "outputs": [],
   "source": [
    "predictions = rf.predict(test_features)\n",
    "# Calculate the absolute errors\n",
    "# print(predictions)\n",
    "preds = []\n",
    "for p in predictions:\n",
    "    if p >=0.5:\n",
    "        preds.append(1)\n",
    "    else:\n",
    "        preds.append(0)"
   ]
  },
  {
   "cell_type": "code",
   "execution_count": 19,
   "id": "cdb98865",
   "metadata": {
    "execution": {
     "iopub.execute_input": "2024-02-25T18:44:13.423381Z",
     "iopub.status.busy": "2024-02-25T18:44:13.422308Z",
     "iopub.status.idle": "2024-02-25T18:44:13.437314Z",
     "shell.execute_reply": "2024-02-25T18:44:13.436104Z"
    },
    "papermill": {
     "duration": 0.033049,
     "end_time": "2024-02-25T18:44:13.440573",
     "exception": false,
     "start_time": "2024-02-25T18:44:13.407524",
     "status": "completed"
    },
    "tags": []
   },
   "outputs": [
    {
     "data": {
      "text/plain": [
       "array([0, 1, 0, 1, 0, 1, 0, 0, 1, 1, 0, 0, 0, 0, 1, 0, 1, 1, 1, 0, 1, 1,\n",
       "       1, 1, 1, 1, 0, 0, 0, 0, 0, 1, 1, 1, 0, 0, 1, 1, 1, 1, 0, 0, 0, 1,\n",
       "       0, 1, 0, 0, 1, 0, 0, 1, 1, 1, 0, 0, 0, 0, 0, 0, 0, 1, 0, 1, 0, 0,\n",
       "       1, 1, 1, 0, 0, 1, 0, 1, 0, 0, 0, 1, 0, 1, 0, 1, 0, 0, 0, 0, 1, 1,\n",
       "       1, 1, 1, 1, 0, 1, 0, 1, 1, 1, 1, 0, 1, 0, 1, 1, 1, 1, 0, 0, 1, 0,\n",
       "       1, 0, 1, 0, 1, 0, 1, 0, 1, 1, 0, 1, 0, 1, 1, 1, 1, 1, 0, 0, 0, 0,\n",
       "       1, 0, 1, 1, 1, 0, 0, 1, 1, 0, 0, 0, 0, 1, 1, 1, 1, 0, 0, 0, 1, 0,\n",
       "       1, 0, 0, 1, 0, 1, 1, 0, 0, 0, 1, 0, 0, 0, 0, 0, 1, 0, 1, 1, 0, 1,\n",
       "       0, 1, 1, 0, 0, 0, 1, 1, 1, 0, 1, 1, 1, 1, 0, 1, 0, 0, 0, 0, 0, 0,\n",
       "       1, 1, 0, 0, 1, 0, 1, 1, 1, 1, 0, 0, 0, 0, 0, 0, 1, 0, 1, 0, 1, 1,\n",
       "       1, 1, 0, 0, 0, 0, 1, 0, 1, 0, 1, 1, 0, 1, 1, 0, 0, 0, 1, 1, 0, 1,\n",
       "       0, 0, 1, 1, 0, 1, 1, 0, 0, 1, 1, 0, 0, 0, 0, 1, 0, 1, 0, 0, 0, 0,\n",
       "       1, 0, 0, 1, 0, 0, 1, 1, 1, 1, 1, 1, 1, 0, 0, 1, 1, 0, 1, 1, 0, 0,\n",
       "       1, 1, 0, 0, 0, 0, 1, 1, 1, 1, 0, 0, 0, 0, 1, 1, 1, 1, 0, 0, 0, 1,\n",
       "       0, 0, 0, 0, 1, 0, 0, 0, 0, 1, 1, 1, 0, 1, 1, 1, 1, 0, 0, 1, 1, 1,\n",
       "       0, 0, 1, 1, 1, 0, 0, 1, 1, 0, 1, 0, 1, 1, 1, 0, 1, 0, 0, 1, 1, 1,\n",
       "       1, 0, 0, 0, 0, 0, 0, 0, 1, 1, 0, 0, 1, 0, 0, 1, 0, 1, 0, 1, 0, 0,\n",
       "       0, 0, 0, 0, 1, 0, 0, 0, 1, 0, 0, 0, 1, 1, 0, 1, 0, 0, 1, 1, 1, 0,\n",
       "       1, 1, 1, 1, 1, 1, 0, 0, 0, 0, 0, 0, 1, 0, 0, 0, 0, 1, 1, 0, 0, 0,\n",
       "       0, 0, 1, 1, 1, 0, 1, 1, 1, 1, 0, 1, 0, 1, 1, 1, 1, 1, 0, 1, 0, 1,\n",
       "       0, 1, 0, 1, 1, 1, 1, 0, 0, 1, 0, 0, 1, 0, 0, 1, 1, 1, 1, 1, 0, 1,\n",
       "       0, 0, 0, 0, 0, 0, 1, 1, 1, 0, 1, 0, 1, 0, 0, 1, 1, 1, 0, 1, 0, 1,\n",
       "       0, 0, 1, 0, 0, 1, 0, 1, 0, 0, 0, 0, 1, 0, 1, 0, 1, 0, 1, 1, 0, 1,\n",
       "       0, 1, 1, 1, 1, 1, 1, 1, 0, 0, 1, 1, 0, 1, 0, 1, 1, 0, 1, 1, 0, 1,\n",
       "       0, 1, 0, 1, 0, 1, 0, 1, 1, 1, 1, 1, 0, 0, 0, 0, 1, 1, 1, 0, 1, 0,\n",
       "       1, 1, 1, 1, 1, 0, 0, 1, 0, 0, 0, 1, 1, 1, 0, 0, 1, 1, 0, 1, 1, 1,\n",
       "       1, 1, 0, 0, 1, 1, 1, 0, 0, 0, 1, 0, 0, 0, 1, 1, 1, 0, 0, 0, 0, 1,\n",
       "       1, 0, 0, 0, 1, 1, 1, 1, 0, 0, 0, 1, 1, 1, 0, 1, 0, 0, 1, 1, 1, 1,\n",
       "       0, 1, 1, 0, 0, 0, 0, 1, 1, 0, 0, 1, 1, 1, 1, 1, 0, 1, 0, 0, 1, 1,\n",
       "       1, 1, 0, 1, 1, 0, 0, 0, 0, 0, 0, 0, 1, 0, 0, 0, 0, 0, 0, 0, 1, 1,\n",
       "       0, 0, 1, 1, 1, 1, 1, 0, 0, 0, 0, 1, 0, 1, 1, 0, 1, 0, 1, 1, 1, 0,\n",
       "       1, 1, 0, 1, 1, 0, 0, 0, 0, 0, 0, 1, 0, 0, 1, 1, 0, 1, 0, 1, 0, 0,\n",
       "       1, 0, 1, 1, 0, 0, 1, 0, 0, 1, 1, 0, 1, 1, 0, 0, 0, 0, 0, 1, 1, 0,\n",
       "       0, 1, 1, 1, 1, 1, 1, 1, 1, 0, 0, 0, 1, 1, 0, 0, 0, 0, 1, 1, 1, 1,\n",
       "       0, 0, 1, 0, 0, 1, 1, 1, 0, 0, 0, 0, 1, 1, 1, 1, 0, 0, 0, 1, 1, 0,\n",
       "       1, 0, 0, 0, 0, 1, 1, 1, 1, 1, 1, 1, 0, 0, 0, 1, 1, 0, 1, 1, 1, 0,\n",
       "       0, 0, 1, 0, 0, 1, 0, 0, 1, 1, 0, 0, 0, 0, 1, 1, 0, 0, 0, 1, 1, 1,\n",
       "       1, 1, 1, 0, 0, 1, 0, 0, 1, 1, 1, 1, 0, 0, 1, 0, 0, 0, 1, 1, 1, 0,\n",
       "       0, 1, 1, 1, 1, 1, 0, 1, 1, 1, 0, 1, 1, 1, 0, 1, 1, 1, 1, 1, 0, 1,\n",
       "       0, 0, 1, 1, 1, 1, 1, 0, 0, 0, 1, 1, 0, 1, 0, 1, 1, 0, 0, 0, 1, 1,\n",
       "       0, 1, 1, 0, 0, 0, 1, 0, 0, 1, 0, 1, 1, 0, 1, 1, 1, 1, 1, 0, 1, 1,\n",
       "       1, 0, 0, 0, 0, 0, 1, 0, 1, 1, 0, 1, 1, 1, 0, 0, 1, 0, 0, 0, 0, 1,\n",
       "       0, 0, 0, 1, 1, 0, 0, 0, 1, 1, 1, 0, 1, 0, 1, 0, 0, 0, 1, 0, 1, 1,\n",
       "       1, 1, 0, 1, 0, 0, 0, 1, 1, 1, 0, 1, 1, 1, 0, 1, 0, 0, 1, 0, 1, 1,\n",
       "       1, 1, 1, 1, 1, 0, 0, 0, 0, 0, 1, 1, 1, 0, 1, 1, 0, 0, 1, 0, 1, 0,\n",
       "       1, 1, 0, 1, 0, 0, 1, 0, 0, 1])"
      ]
     },
     "execution_count": 19,
     "metadata": {},
     "output_type": "execute_result"
    }
   ],
   "source": [
    "preds = np.array(preds)\n",
    "preds"
   ]
  },
  {
   "cell_type": "code",
   "execution_count": 20,
   "id": "9b31b370",
   "metadata": {
    "execution": {
     "iopub.execute_input": "2024-02-25T18:44:13.469473Z",
     "iopub.status.busy": "2024-02-25T18:44:13.468206Z",
     "iopub.status.idle": "2024-02-25T18:44:13.479581Z",
     "shell.execute_reply": "2024-02-25T18:44:13.477721Z"
    },
    "papermill": {
     "duration": 0.029013,
     "end_time": "2024-02-25T18:44:13.482383",
     "exception": false,
     "start_time": "2024-02-25T18:44:13.453370",
     "status": "completed"
    },
    "tags": []
   },
   "outputs": [
    {
     "name": "stdout",
     "output_type": "stream",
     "text": [
      "[[433  63]\n",
      " [ 58 446]]\n"
     ]
    }
   ],
   "source": [
    "from sklearn.metrics import confusion_matrix\n",
    "\n",
    "cm = confusion_matrix(test_labels, preds)\n",
    "print(cm)"
   ]
  },
  {
   "cell_type": "code",
   "execution_count": 21,
   "id": "b1034b37",
   "metadata": {
    "execution": {
     "iopub.execute_input": "2024-02-25T18:44:13.511542Z",
     "iopub.status.busy": "2024-02-25T18:44:13.510304Z",
     "iopub.status.idle": "2024-02-25T18:44:13.531709Z",
     "shell.execute_reply": "2024-02-25T18:44:13.529950Z"
    },
    "papermill": {
     "duration": 0.039369,
     "end_time": "2024-02-25T18:44:13.534800",
     "exception": false,
     "start_time": "2024-02-25T18:44:13.495431",
     "status": "completed"
    },
    "tags": []
   },
   "outputs": [
    {
     "name": "stdout",
     "output_type": "stream",
     "text": [
      "              precision    recall  f1-score   support\n",
      "\n",
      "           0       0.88      0.87      0.88       496\n",
      "           1       0.88      0.88      0.88       504\n",
      "\n",
      "    accuracy                           0.88      1000\n",
      "   macro avg       0.88      0.88      0.88      1000\n",
      "weighted avg       0.88      0.88      0.88      1000\n",
      "\n"
     ]
    }
   ],
   "source": [
    "from sklearn.metrics import classification_report\n",
    "\n",
    "print(classification_report(test_labels, preds))"
   ]
  },
  {
   "cell_type": "code",
   "execution_count": null,
   "id": "f936494b",
   "metadata": {
    "papermill": {
     "duration": 0.012523,
     "end_time": "2024-02-25T18:44:13.560213",
     "exception": false,
     "start_time": "2024-02-25T18:44:13.547690",
     "status": "completed"
    },
    "tags": []
   },
   "outputs": [],
   "source": []
  },
  {
   "cell_type": "code",
   "execution_count": null,
   "id": "e47f6454",
   "metadata": {
    "papermill": {
     "duration": 0.012681,
     "end_time": "2024-02-25T18:44:13.587151",
     "exception": false,
     "start_time": "2024-02-25T18:44:13.574470",
     "status": "completed"
    },
    "tags": []
   },
   "outputs": [],
   "source": []
  },
  {
   "cell_type": "code",
   "execution_count": null,
   "id": "91a44de6",
   "metadata": {
    "papermill": {
     "duration": 0.012395,
     "end_time": "2024-02-25T18:44:13.614307",
     "exception": false,
     "start_time": "2024-02-25T18:44:13.601912",
     "status": "completed"
    },
    "tags": []
   },
   "outputs": [],
   "source": []
  },
  {
   "cell_type": "code",
   "execution_count": null,
   "id": "3701b678",
   "metadata": {
    "papermill": {
     "duration": 0.012969,
     "end_time": "2024-02-25T18:44:13.639930",
     "exception": false,
     "start_time": "2024-02-25T18:44:13.626961",
     "status": "completed"
    },
    "tags": []
   },
   "outputs": [],
   "source": []
  }
 ],
 "metadata": {
  "kaggle": {
   "accelerator": "none",
   "dataSources": [
    {
     "datasetId": 4291772,
     "sourceId": 7384155,
     "sourceType": "datasetVersion"
    }
   ],
   "dockerImageVersionId": 30646,
   "isGpuEnabled": false,
   "isInternetEnabled": true,
   "language": "python",
   "sourceType": "notebook"
  },
  "kernelspec": {
   "display_name": "Python 3",
   "language": "python",
   "name": "python3"
  },
  "language_info": {
   "codemirror_mode": {
    "name": "ipython",
    "version": 3
   },
   "file_extension": ".py",
   "mimetype": "text/x-python",
   "name": "python",
   "nbconvert_exporter": "python",
   "pygments_lexer": "ipython3",
   "version": "3.10.13"
  },
  "papermill": {
   "default_parameters": {},
   "duration": 10.55969,
   "end_time": "2024-02-25T18:44:14.577800",
   "environment_variables": {},
   "exception": null,
   "input_path": "__notebook__.ipynb",
   "output_path": "__notebook__.ipynb",
   "parameters": {},
   "start_time": "2024-02-25T18:44:04.018110",
   "version": "2.5.0"
  }
 },
 "nbformat": 4,
 "nbformat_minor": 5
}
